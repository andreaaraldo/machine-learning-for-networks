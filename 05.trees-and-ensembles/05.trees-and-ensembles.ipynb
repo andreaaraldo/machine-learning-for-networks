{
  "nbformat": 4,
  "nbformat_minor": 0,
  "metadata": {
    "colab": {
      "name": "05.trees.ipynb",
      "provenance": [],
      "authorship_tag": "ABX9TyMGi5xJFYRd9hulrHcycoTy",
      "include_colab_link": true
    },
    "kernelspec": {
      "name": "python3",
      "display_name": "Python 3"
    }
  },
  "cells": [
    {
      "cell_type": "markdown",
      "metadata": {
        "id": "view-in-github",
        "colab_type": "text"
      },
      "source": [
        "<a href=\"https://colab.research.google.com/github/andreaaraldo/machine-learning-for-networks/blob/master/05.trees-and-ensembles/05.trees-and-ensembles.ipynb\" target=\"_parent\"><img src=\"https://colab.research.google.com/assets/colab-badge.svg\" alt=\"Open In Colab\"/></a>"
      ]
    },
    {
      "cell_type": "code",
      "metadata": {
        "id": "p3SZL6IGYE4c",
        "colab": {
          "base_uri": "https://localhost:8080/"
        },
        "outputId": "b66df81f-7c47-4e9b-bc05-b80549b83ffe"
      },
      "source": [
        "import pandas as pd\n",
        "import numpy as np\n",
        "import matplotlib.pyplot as plt\n",
        "\n",
        "from sklearn.model_selection import train_test_split, RandomizedSearchCV, KFold\n",
        "from sklearn.ensemble import RandomForestClassifier\n",
        "from sklearn.metrics import log_loss\n",
        "\n",
        "from collections import Counter\n",
        "\n",
        "from imblearn.over_sampling import SMOTE\n",
        "\n",
        "\n",
        "# Import the visualization library I prepared for you\n",
        "! wget https://raw.githubusercontent.com/andreaaraldo/machine-learning-for-networks/master/course_library/visualization.py\n",
        "from visualization import plot_conf_mat, plot_feature_importances\n",
        "\n",
        "\n",
        "!pip install ipython-autotime # To show time at each cell\n",
        "                              # Credits to https://medium.com/@arptoth/how-to-measure-execution-time-in-google-colab-707cc9aad1c8\n",
        "%load_ext autotime\n",
        "\n",
        "\n",
        "# The following is to be able to mount Google Drive\n",
        "from google.colab import drive\n",
        "\n",
        "import pickle # To save the model\n",
        "from os.path import isfile"
      ],
      "execution_count": null,
      "outputs": [
        {
          "output_type": "stream",
          "text": [
            "/usr/local/lib/python3.6/dist-packages/sklearn/externals/six.py:31: FutureWarning: The module is deprecated in version 0.21 and will be removed in version 0.23 since we've dropped support for Python 2.7. Please rely on the official version of six (https://pypi.org/project/six/).\n",
            "  \"(https://pypi.org/project/six/).\", FutureWarning)\n",
            "/usr/local/lib/python3.6/dist-packages/sklearn/utils/deprecation.py:144: FutureWarning: The sklearn.neighbors.base module is  deprecated in version 0.22 and will be removed in version 0.24. The corresponding classes / functions should instead be imported from sklearn.neighbors. Anything that cannot be imported from sklearn.neighbors is now part of the private API.\n",
            "  warnings.warn(message, FutureWarning)\n"
          ],
          "name": "stderr"
        },
        {
          "output_type": "stream",
          "text": [
            "--2020-12-09 07:25:43--  https://raw.githubusercontent.com/andreaaraldo/machine-learning-for-networks/master/course_library/visualization.py\n",
            "Resolving raw.githubusercontent.com (raw.githubusercontent.com)... 151.101.0.133, 151.101.64.133, 151.101.128.133, ...\n",
            "Connecting to raw.githubusercontent.com (raw.githubusercontent.com)|151.101.0.133|:443... connected.\n",
            "HTTP request sent, awaiting response... 200 OK\n",
            "Length: 13008 (13K) [text/plain]\n",
            "Saving to: ‘visualization.py.1’\n",
            "\n",
            "\rvisualization.py.1    0%[                    ]       0  --.-KB/s               \rvisualization.py.1  100%[===================>]  12.70K  --.-KB/s    in 0s      \n",
            "\n",
            "2020-12-09 07:25:44 (70.9 MB/s) - ‘visualization.py.1’ saved [13008/13008]\n",
            "\n",
            "Requirement already satisfied: ipython-autotime in /usr/local/lib/python3.6/dist-packages (0.2.0)\n",
            "Requirement already satisfied: ipython in /usr/local/lib/python3.6/dist-packages (from ipython-autotime) (5.5.0)\n",
            "Requirement already satisfied: simplegeneric>0.8 in /usr/local/lib/python3.6/dist-packages (from ipython->ipython-autotime) (0.8.1)\n",
            "Requirement already satisfied: setuptools>=18.5 in /usr/local/lib/python3.6/dist-packages (from ipython->ipython-autotime) (50.3.2)\n",
            "Requirement already satisfied: pexpect; sys_platform != \"win32\" in /usr/local/lib/python3.6/dist-packages (from ipython->ipython-autotime) (4.8.0)\n",
            "Requirement already satisfied: prompt-toolkit<2.0.0,>=1.0.4 in /usr/local/lib/python3.6/dist-packages (from ipython->ipython-autotime) (1.0.18)\n",
            "Requirement already satisfied: traitlets>=4.2 in /usr/local/lib/python3.6/dist-packages (from ipython->ipython-autotime) (4.3.3)\n",
            "Requirement already satisfied: pickleshare in /usr/local/lib/python3.6/dist-packages (from ipython->ipython-autotime) (0.7.5)\n",
            "Requirement already satisfied: pygments in /usr/local/lib/python3.6/dist-packages (from ipython->ipython-autotime) (2.6.1)\n",
            "Requirement already satisfied: decorator in /usr/local/lib/python3.6/dist-packages (from ipython->ipython-autotime) (4.4.2)\n",
            "Requirement already satisfied: ptyprocess>=0.5 in /usr/local/lib/python3.6/dist-packages (from pexpect; sys_platform != \"win32\"->ipython->ipython-autotime) (0.6.0)\n",
            "Requirement already satisfied: wcwidth in /usr/local/lib/python3.6/dist-packages (from prompt-toolkit<2.0.0,>=1.0.4->ipython->ipython-autotime) (0.2.5)\n",
            "Requirement already satisfied: six>=1.9.0 in /usr/local/lib/python3.6/dist-packages (from prompt-toolkit<2.0.0,>=1.0.4->ipython->ipython-autotime) (1.15.0)\n",
            "Requirement already satisfied: ipython-genutils in /usr/local/lib/python3.6/dist-packages (from traitlets>=4.2->ipython->ipython-autotime) (0.2.0)\n",
            "time: 2 ms\n"
          ],
          "name": "stdout"
        }
      ]
    },
    {
      "cell_type": "markdown",
      "metadata": {
        "id": "FAXD9THYlAVY"
      },
      "source": [
        "Mount Google Drive"
      ]
    },
    {
      "cell_type": "code",
      "metadata": {
        "id": "fnCGlHqBlCSv",
        "colab": {
          "base_uri": "https://localhost:8080/"
        },
        "outputId": "0ed58e55-879f-46d8-b86b-4e6d65e0b004"
      },
      "source": [
        "mount_point = '/content/gdrive' # Always the same, don't change it\n",
        "drive.mount(mount_point, force_remount=True)\n",
        "drive_path = mount_point + '/My Drive/' # Always the same, don't change it\n",
        "my_path = drive_path + \\\n",
        "  'tsp/teaching/data-science-for-networks/img-from-code/05.trees/'"
      ],
      "execution_count": null,
      "outputs": [
        {
          "output_type": "stream",
          "text": [
            "Mounted at /content/gdrive\n",
            "time: 1.06 s\n"
          ],
          "name": "stdout"
        }
      ]
    },
    {
      "cell_type": "markdown",
      "metadata": {
        "id": "8AtvvynTUSsm"
      },
      "source": [
        "# Use case and dataset\n",
        "\n",
        "We use the dataset by [Reyhane Askari Hemmat](https://github.com/ReyhaneAskari/SLA_violation_classification) (Université de Montréal) used in [He16]. This dataset is built from [Google Cloud Cluster Trace](https://github.com/google/cluster-data), a 29-days trace of activity in a Google Cloud cluster. The trace reports:\n",
        "\n",
        "* Resources available on the machines\n",
        "* Tasks submitted by users, along with the requested resources\n",
        "* Actual resources used by tasks\n",
        "* Events, like eviction of tasks (for lack of resources, failure of the machine, etc.)\n",
        "\n",
        "\n",
        "Hemmat et Al. [He16] pre-processed this trace:\n",
        "* For each submitted task, they checked if the task correctly terminates or is evicted\n",
        "* They created as csv file with the task characteristics and a `violation` column, to indicating failure (1) or normal termination (0).\n",
        "\n",
        "\n",
        "### Goal\n",
        "Predict a task failure, i.e., whether a task [will be evicted](https://github.com/ReyhaneAskari/SLA_violation_classification/blob/55bba2683dec43e739244b6b616294827a98f8e1/3_create_database/scripts/full_db_2.py#L33) before normal termination."
      ]
    },
    {
      "cell_type": "code",
      "metadata": {
        "id": "BpetR2NnS7JP",
        "colab": {
          "base_uri": "https://localhost:8080/"
        },
        "outputId": "5a67f5b4-e6d2-4f42-d392-768a9ffe1627"
      },
      "source": [
        "!wget https://raw.githubusercontent.com/ReyhaneAskari/SLA_violation_classification/master/3_create_database/csvs/frull_db_2.csv"
      ],
      "execution_count": null,
      "outputs": [
        {
          "output_type": "stream",
          "text": [
            "--2020-12-09 07:25:59--  https://raw.githubusercontent.com/ReyhaneAskari/SLA_violation_classification/master/3_create_database/csvs/frull_db_2.csv\n",
            "Resolving raw.githubusercontent.com (raw.githubusercontent.com)... 151.101.0.133, 151.101.64.133, 151.101.128.133, ...\n",
            "Connecting to raw.githubusercontent.com (raw.githubusercontent.com)|151.101.0.133|:443... connected.\n",
            "HTTP request sent, awaiting response... 200 OK\n",
            "Length: 10633997 (10M) [text/plain]\n",
            "Saving to: ‘frull_db_2.csv.1’\n",
            "\n",
            "frull_db_2.csv.1    100%[===================>]  10.14M  31.3MB/s    in 0.3s    \n",
            "\n",
            "2020-12-09 07:26:00 (31.3 MB/s) - ‘frull_db_2.csv.1’ saved [10633997/10633997]\n",
            "\n",
            "time: 820 ms\n"
          ],
          "name": "stdout"
        }
      ]
    },
    {
      "cell_type": "markdown",
      "metadata": {
        "id": "nr8fOtg1WiuD"
      },
      "source": [
        "Unfortunately, [no GPU support](https://stackoverflow.com/a/41568439/2110769) is available for scikit learn."
      ]
    },
    {
      "cell_type": "markdown",
      "metadata": {
        "id": "MIpuJgGbX4tz"
      },
      "source": [
        "# Load dataset and preliminary operations\n"
      ]
    },
    {
      "cell_type": "code",
      "metadata": {
        "id": "bdjiawPyX7FR",
        "colab": {
          "base_uri": "https://localhost:8080/",
          "height": 441
        },
        "outputId": "af6fd9f0-65a7-4bbc-ec5b-cc8cfac892e4"
      },
      "source": [
        "train_path = \"frull_db_2.csv\"\n",
        "df = pd.read_csv(train_path)\n",
        "df"
      ],
      "execution_count": null,
      "outputs": [
        {
          "output_type": "execute_result",
          "data": {
            "text/html": [
              "<div>\n",
              "<style scoped>\n",
              "    .dataframe tbody tr th:only-of-type {\n",
              "        vertical-align: middle;\n",
              "    }\n",
              "\n",
              "    .dataframe tbody tr th {\n",
              "        vertical-align: top;\n",
              "    }\n",
              "\n",
              "    .dataframe thead th {\n",
              "        text-align: right;\n",
              "    }\n",
              "</style>\n",
              "<table border=\"1\" class=\"dataframe\">\n",
              "  <thead>\n",
              "    <tr style=\"text-align: right;\">\n",
              "      <th></th>\n",
              "      <th>Unnamed: 0</th>\n",
              "      <th>job_id</th>\n",
              "      <th>task_idx</th>\n",
              "      <th>sched_cls</th>\n",
              "      <th>priority</th>\n",
              "      <th>cpu_requested</th>\n",
              "      <th>mem_requested</th>\n",
              "      <th>disk</th>\n",
              "      <th>violation</th>\n",
              "    </tr>\n",
              "  </thead>\n",
              "  <tbody>\n",
              "    <tr>\n",
              "      <th>0</th>\n",
              "      <td>2</td>\n",
              "      <td>3418314</td>\n",
              "      <td>0</td>\n",
              "      <td>3</td>\n",
              "      <td>9</td>\n",
              "      <td>0.12500</td>\n",
              "      <td>0.074460</td>\n",
              "      <td>0.000424</td>\n",
              "      <td>0</td>\n",
              "    </tr>\n",
              "    <tr>\n",
              "      <th>1</th>\n",
              "      <td>3</td>\n",
              "      <td>3418314</td>\n",
              "      <td>1</td>\n",
              "      <td>3</td>\n",
              "      <td>9</td>\n",
              "      <td>0.12500</td>\n",
              "      <td>0.074460</td>\n",
              "      <td>0.000424</td>\n",
              "      <td>0</td>\n",
              "    </tr>\n",
              "    <tr>\n",
              "      <th>2</th>\n",
              "      <td>45</td>\n",
              "      <td>3418368</td>\n",
              "      <td>0</td>\n",
              "      <td>3</td>\n",
              "      <td>9</td>\n",
              "      <td>0.03125</td>\n",
              "      <td>0.086910</td>\n",
              "      <td>0.000455</td>\n",
              "      <td>0</td>\n",
              "    </tr>\n",
              "    <tr>\n",
              "      <th>3</th>\n",
              "      <td>46</td>\n",
              "      <td>3418368</td>\n",
              "      <td>1</td>\n",
              "      <td>3</td>\n",
              "      <td>9</td>\n",
              "      <td>0.03125</td>\n",
              "      <td>0.086910</td>\n",
              "      <td>0.000455</td>\n",
              "      <td>0</td>\n",
              "    </tr>\n",
              "    <tr>\n",
              "      <th>4</th>\n",
              "      <td>47</td>\n",
              "      <td>3418368</td>\n",
              "      <td>2</td>\n",
              "      <td>3</td>\n",
              "      <td>9</td>\n",
              "      <td>0.03125</td>\n",
              "      <td>0.086910</td>\n",
              "      <td>0.000455</td>\n",
              "      <td>0</td>\n",
              "    </tr>\n",
              "    <tr>\n",
              "      <th>...</th>\n",
              "      <td>...</td>\n",
              "      <td>...</td>\n",
              "      <td>...</td>\n",
              "      <td>...</td>\n",
              "      <td>...</td>\n",
              "      <td>...</td>\n",
              "      <td>...</td>\n",
              "      <td>...</td>\n",
              "      <td>...</td>\n",
              "    </tr>\n",
              "    <tr>\n",
              "      <th>201195</th>\n",
              "      <td>450131</td>\n",
              "      <td>6251995937</td>\n",
              "      <td>196</td>\n",
              "      <td>0</td>\n",
              "      <td>0</td>\n",
              "      <td>0.06873</td>\n",
              "      <td>0.011930</td>\n",
              "      <td>0.000115</td>\n",
              "      <td>0</td>\n",
              "    </tr>\n",
              "    <tr>\n",
              "      <th>201196</th>\n",
              "      <td>450134</td>\n",
              "      <td>4392480606</td>\n",
              "      <td>180</td>\n",
              "      <td>2</td>\n",
              "      <td>0</td>\n",
              "      <td>0.06250</td>\n",
              "      <td>0.063350</td>\n",
              "      <td>0.000077</td>\n",
              "      <td>0</td>\n",
              "    </tr>\n",
              "    <tr>\n",
              "      <th>201197</th>\n",
              "      <td>450137</td>\n",
              "      <td>5285926325</td>\n",
              "      <td>0</td>\n",
              "      <td>0</td>\n",
              "      <td>9</td>\n",
              "      <td>0.06250</td>\n",
              "      <td>0.006218</td>\n",
              "      <td>0.000038</td>\n",
              "      <td>1</td>\n",
              "    </tr>\n",
              "    <tr>\n",
              "      <th>201198</th>\n",
              "      <td>450142</td>\n",
              "      <td>6183750753</td>\n",
              "      <td>60</td>\n",
              "      <td>1</td>\n",
              "      <td>0</td>\n",
              "      <td>0.12500</td>\n",
              "      <td>0.033390</td>\n",
              "      <td>0.000019</td>\n",
              "      <td>0</td>\n",
              "    </tr>\n",
              "    <tr>\n",
              "      <th>201199</th>\n",
              "      <td>450145</td>\n",
              "      <td>515042969</td>\n",
              "      <td>26</td>\n",
              "      <td>2</td>\n",
              "      <td>0</td>\n",
              "      <td>0.01562</td>\n",
              "      <td>0.015530</td>\n",
              "      <td>0.000215</td>\n",
              "      <td>0</td>\n",
              "    </tr>\n",
              "  </tbody>\n",
              "</table>\n",
              "<p>201200 rows × 9 columns</p>\n",
              "</div>"
            ],
            "text/plain": [
              "        Unnamed: 0      job_id  task_idx  ...  mem_requested      disk  violation\n",
              "0                2     3418314         0  ...       0.074460  0.000424          0\n",
              "1                3     3418314         1  ...       0.074460  0.000424          0\n",
              "2               45     3418368         0  ...       0.086910  0.000455          0\n",
              "3               46     3418368         1  ...       0.086910  0.000455          0\n",
              "4               47     3418368         2  ...       0.086910  0.000455          0\n",
              "...            ...         ...       ...  ...            ...       ...        ...\n",
              "201195      450131  6251995937       196  ...       0.011930  0.000115          0\n",
              "201196      450134  4392480606       180  ...       0.063350  0.000077          0\n",
              "201197      450137  5285926325         0  ...       0.006218  0.000038          1\n",
              "201198      450142  6183750753        60  ...       0.033390  0.000019          0\n",
              "201199      450145   515042969        26  ...       0.015530  0.000215          0\n",
              "\n",
              "[201200 rows x 9 columns]"
            ]
          },
          "metadata": {
            "tags": []
          },
          "execution_count": 4
        },
        {
          "output_type": "stream",
          "text": [
            "time: 212 ms\n"
          ],
          "name": "stdout"
        }
      ]
    },
    {
      "cell_type": "markdown",
      "metadata": {
        "id": "4tK7OuzSbq5x"
      },
      "source": [
        "Column description:\n",
        "* `job_id`: users submit jobs, i.e., a set of tasks\n",
        "* `task_idx`: the index of a task within a job. A task is uniquely identified by `(job_id, task_idx)`\n",
        "* `sched_cls`: From [Re11]: \"3 representing a more latency-sensitive task (e.g., serving revenue-generating user requests) and 0 representing a non-production task (e.g., development, non-business-critical analyses, etc.)... more latency-sensitive tasks tend to have higher task priorities\"\n",
        "* `priority`\n",
        "* `cpu_requested`: Maximum amount of CPU the task is permitted to use.\n",
        "  * Unit of measurement: core-count / second.\n",
        "  * The scale is relateive to the CPU available in the most powerful machine of the cluster.\n",
        "  * This is specified by the user at submission time\n",
        "* `mem_requested`: Maximum amount of memory the task is permitted to use.\n",
        "  * Unit of measurement: GB\n",
        "  * The scale is relateive to the memory available in the machine of the cluster with the largest memory.\n",
        "  * This is specified by the user at submission time\n",
        "* `disk`: Similarly to `mem_requested`"
      ]
    },
    {
      "cell_type": "markdown",
      "metadata": {
        "id": "Lx1nvFTgZmZr"
      },
      "source": [
        "We need to remove features that have no predictive meaning"
      ]
    },
    {
      "cell_type": "code",
      "metadata": {
        "id": "klofcMKtZqGR",
        "colab": {
          "base_uri": "https://localhost:8080/",
          "height": 441
        },
        "outputId": "31d9eeee-ae22-4d26-94ce-949a2ea665ed"
      },
      "source": [
        "df = df.drop(labels=['Unnamed: 0', 'job_id', 'task_idx'], axis=1)\n",
        "df"
      ],
      "execution_count": null,
      "outputs": [
        {
          "output_type": "execute_result",
          "data": {
            "text/html": [
              "<div>\n",
              "<style scoped>\n",
              "    .dataframe tbody tr th:only-of-type {\n",
              "        vertical-align: middle;\n",
              "    }\n",
              "\n",
              "    .dataframe tbody tr th {\n",
              "        vertical-align: top;\n",
              "    }\n",
              "\n",
              "    .dataframe thead th {\n",
              "        text-align: right;\n",
              "    }\n",
              "</style>\n",
              "<table border=\"1\" class=\"dataframe\">\n",
              "  <thead>\n",
              "    <tr style=\"text-align: right;\">\n",
              "      <th></th>\n",
              "      <th>sched_cls</th>\n",
              "      <th>priority</th>\n",
              "      <th>cpu_requested</th>\n",
              "      <th>mem_requested</th>\n",
              "      <th>disk</th>\n",
              "      <th>violation</th>\n",
              "    </tr>\n",
              "  </thead>\n",
              "  <tbody>\n",
              "    <tr>\n",
              "      <th>0</th>\n",
              "      <td>3</td>\n",
              "      <td>9</td>\n",
              "      <td>0.12500</td>\n",
              "      <td>0.074460</td>\n",
              "      <td>0.000424</td>\n",
              "      <td>0</td>\n",
              "    </tr>\n",
              "    <tr>\n",
              "      <th>1</th>\n",
              "      <td>3</td>\n",
              "      <td>9</td>\n",
              "      <td>0.12500</td>\n",
              "      <td>0.074460</td>\n",
              "      <td>0.000424</td>\n",
              "      <td>0</td>\n",
              "    </tr>\n",
              "    <tr>\n",
              "      <th>2</th>\n",
              "      <td>3</td>\n",
              "      <td>9</td>\n",
              "      <td>0.03125</td>\n",
              "      <td>0.086910</td>\n",
              "      <td>0.000455</td>\n",
              "      <td>0</td>\n",
              "    </tr>\n",
              "    <tr>\n",
              "      <th>3</th>\n",
              "      <td>3</td>\n",
              "      <td>9</td>\n",
              "      <td>0.03125</td>\n",
              "      <td>0.086910</td>\n",
              "      <td>0.000455</td>\n",
              "      <td>0</td>\n",
              "    </tr>\n",
              "    <tr>\n",
              "      <th>4</th>\n",
              "      <td>3</td>\n",
              "      <td>9</td>\n",
              "      <td>0.03125</td>\n",
              "      <td>0.086910</td>\n",
              "      <td>0.000455</td>\n",
              "      <td>0</td>\n",
              "    </tr>\n",
              "    <tr>\n",
              "      <th>...</th>\n",
              "      <td>...</td>\n",
              "      <td>...</td>\n",
              "      <td>...</td>\n",
              "      <td>...</td>\n",
              "      <td>...</td>\n",
              "      <td>...</td>\n",
              "    </tr>\n",
              "    <tr>\n",
              "      <th>201195</th>\n",
              "      <td>0</td>\n",
              "      <td>0</td>\n",
              "      <td>0.06873</td>\n",
              "      <td>0.011930</td>\n",
              "      <td>0.000115</td>\n",
              "      <td>0</td>\n",
              "    </tr>\n",
              "    <tr>\n",
              "      <th>201196</th>\n",
              "      <td>2</td>\n",
              "      <td>0</td>\n",
              "      <td>0.06250</td>\n",
              "      <td>0.063350</td>\n",
              "      <td>0.000077</td>\n",
              "      <td>0</td>\n",
              "    </tr>\n",
              "    <tr>\n",
              "      <th>201197</th>\n",
              "      <td>0</td>\n",
              "      <td>9</td>\n",
              "      <td>0.06250</td>\n",
              "      <td>0.006218</td>\n",
              "      <td>0.000038</td>\n",
              "      <td>1</td>\n",
              "    </tr>\n",
              "    <tr>\n",
              "      <th>201198</th>\n",
              "      <td>1</td>\n",
              "      <td>0</td>\n",
              "      <td>0.12500</td>\n",
              "      <td>0.033390</td>\n",
              "      <td>0.000019</td>\n",
              "      <td>0</td>\n",
              "    </tr>\n",
              "    <tr>\n",
              "      <th>201199</th>\n",
              "      <td>2</td>\n",
              "      <td>0</td>\n",
              "      <td>0.01562</td>\n",
              "      <td>0.015530</td>\n",
              "      <td>0.000215</td>\n",
              "      <td>0</td>\n",
              "    </tr>\n",
              "  </tbody>\n",
              "</table>\n",
              "<p>201200 rows × 6 columns</p>\n",
              "</div>"
            ],
            "text/plain": [
              "        sched_cls  priority  cpu_requested  mem_requested      disk  violation\n",
              "0               3         9        0.12500       0.074460  0.000424          0\n",
              "1               3         9        0.12500       0.074460  0.000424          0\n",
              "2               3         9        0.03125       0.086910  0.000455          0\n",
              "3               3         9        0.03125       0.086910  0.000455          0\n",
              "4               3         9        0.03125       0.086910  0.000455          0\n",
              "...           ...       ...            ...            ...       ...        ...\n",
              "201195          0         0        0.06873       0.011930  0.000115          0\n",
              "201196          2         0        0.06250       0.063350  0.000077          0\n",
              "201197          0         9        0.06250       0.006218  0.000038          1\n",
              "201198          1         0        0.12500       0.033390  0.000019          0\n",
              "201199          2         0        0.01562       0.015530  0.000215          0\n",
              "\n",
              "[201200 rows x 6 columns]"
            ]
          },
          "metadata": {
            "tags": []
          },
          "execution_count": 5
        },
        {
          "output_type": "stream",
          "text": [
            "time: 26.3 ms\n"
          ],
          "name": "stdout"
        }
      ]
    },
    {
      "cell_type": "markdown",
      "metadata": {
        "id": "kzn8ZKz3hFR6"
      },
      "source": [
        "Let's partition the dataset in training and test dataset"
      ]
    },
    {
      "cell_type": "code",
      "metadata": {
        "id": "d6mFPOxQhJeC",
        "colab": {
          "base_uri": "https://localhost:8080/"
        },
        "outputId": "d3dd6ad7-be98-41ba-f607-602ae649b1b4"
      },
      "source": [
        "X = df.drop(labels='violation', axis=1)\n",
        "y = df['violation']\n",
        "\n",
        "X_train, X_test, y_train, y_test = train_test_split(X,y, test_size=0.3,\n",
        "                                        shuffle=True, random_state=4)"
      ],
      "execution_count": null,
      "outputs": [
        {
          "output_type": "stream",
          "text": [
            "time: 36.9 ms\n"
          ],
          "name": "stdout"
        }
      ]
    },
    {
      "cell_type": "markdown",
      "metadata": {
        "id": "vURrRYS_itCy"
      },
      "source": [
        "Check for class imbalance and correct for it"
      ]
    },
    {
      "cell_type": "code",
      "metadata": {
        "id": "85bp3E7virt5",
        "colab": {
          "base_uri": "https://localhost:8080/"
        },
        "outputId": "d3fe379e-b60b-4a4a-f23b-b5bf7c4e3b67"
      },
      "source": [
        "print( \"Samples per class before SMOTE: \", Counter(y_train) )\n",
        "\n",
        "smote = SMOTE()\n",
        "X_train, y_train = smote.fit_sample(X_train, y_train)\n",
        "\n",
        "print( \"Samples per class after SMOTE: \", Counter(y_train) )"
      ],
      "execution_count": null,
      "outputs": [
        {
          "output_type": "stream",
          "text": [
            "Samples per class before SMOTE:  Counter({0: 129445, 1: 11395})\n"
          ],
          "name": "stdout"
        },
        {
          "output_type": "stream",
          "text": [
            "/usr/local/lib/python3.6/dist-packages/sklearn/utils/deprecation.py:87: FutureWarning: Function safe_indexing is deprecated; safe_indexing is deprecated in version 0.22 and will be removed in version 0.24.\n",
            "  warnings.warn(msg, category=FutureWarning)\n"
          ],
          "name": "stderr"
        },
        {
          "output_type": "stream",
          "text": [
            "Samples per class after SMOTE:  Counter({0: 129445, 1: 129445})\n",
            "time: 1.02 s\n"
          ],
          "name": "stdout"
        }
      ]
    },
    {
      "cell_type": "markdown",
      "metadata": {
        "id": "nKdysedgj3UP"
      },
      "source": [
        "# Training and testing a random forest"
      ]
    },
    {
      "cell_type": "code",
      "metadata": {
        "id": "JvkIIF5ej7VY",
        "colab": {
          "base_uri": "https://localhost:8080/"
        },
        "outputId": "cb87c0a0-37e5-4e2f-eaba-a679a95a47c3"
      },
      "source": [
        "model = RandomForestClassifier(n_estimators=100,\n",
        "                      criterion='gini',\n",
        "                      max_leaf_nodes=16, # Each tree cannot have more than that\n",
        "                      random_state=5, # For reproducibility\n",
        "                      n_jobs=-1, # Use all the CPUs\n",
        "                      max_features = 'auto' # auto means=sqrt(n_features)\n",
        "                      )\n",
        "\n",
        "model.fit(X_train, y_train)"
      ],
      "execution_count": null,
      "outputs": [
        {
          "output_type": "execute_result",
          "data": {
            "text/plain": [
              "RandomForestClassifier(bootstrap=True, ccp_alpha=0.0, class_weight=None,\n",
              "                       criterion='gini', max_depth=None, max_features='auto',\n",
              "                       max_leaf_nodes=16, max_samples=None,\n",
              "                       min_impurity_decrease=0.0, min_impurity_split=None,\n",
              "                       min_samples_leaf=1, min_samples_split=2,\n",
              "                       min_weight_fraction_leaf=0.0, n_estimators=100,\n",
              "                       n_jobs=-1, oob_score=False, random_state=5, verbose=0,\n",
              "                       warm_start=False)"
            ]
          },
          "metadata": {
            "tags": []
          },
          "execution_count": 8
        },
        {
          "output_type": "stream",
          "text": [
            "time: 9.5 s\n"
          ],
          "name": "stdout"
        }
      ]
    },
    {
      "cell_type": "code",
      "metadata": {
        "id": "NoM2Tv84VOnF",
        "colab": {
          "base_uri": "https://localhost:8080/",
          "height": 672
        },
        "outputId": "bc5b7629-93e8-4954-fb7d-0d394c73ad3a"
      },
      "source": [
        "y_pred = model.predict(X_test)\n",
        "\n",
        "class_names = np.array(['ok', 'fail'])\n",
        "plot_conf_mat(y_test, y_pred, class_names)"
      ],
      "execution_count": null,
      "outputs": [
        {
          "output_type": "stream",
          "text": [
            "Normalized confusion matrix\n",
            "[[0.90138486 0.09861514]\n",
            " [0.10805216 0.89194784]]\n"
          ],
          "name": "stdout"
        },
        {
          "output_type": "execute_result",
          "data": {
            "text/plain": [
              "<matplotlib.axes._subplots.AxesSubplot at 0x7f4e240125c0>"
            ]
          },
          "metadata": {
            "tags": []
          },
          "execution_count": 9
        },
        {
          "output_type": "display_data",
          "data": {
            "image/png": "[encoded data removed]",
            "text/plain": [
              "<Figure size 576x576 with 2 Axes>"
            ]
          },
          "metadata": {
            "tags": [],
            "needs_background": "light"
          }
        },
        {
          "output_type": "stream",
          "text": [
            "time: 791 ms\n"
          ],
          "name": "stdout"
        }
      ]
    },
    {
      "cell_type": "markdown",
      "metadata": {
        "id": "kbvEAr_9X0j8"
      },
      "source": [
        "Let's check the feature importance"
      ]
    },
    {
      "cell_type": "code",
      "metadata": {
        "id": "6VoOAQ9XXprs",
        "colab": {
          "base_uri": "https://localhost:8080/",
          "height": 312
        },
        "outputId": "3da8b26f-6d06-49b6-cea6-b06397c63991"
      },
      "source": [
        "feature_names = X_test.columns\n",
        "plot_feature_importances(model.feature_importances_, feature_names)\n",
        "feature_names"
      ],
      "execution_count": null,
      "outputs": [
        {
          "output_type": "display_data",
          "data": {
            "image/png": "[encoded data removed]",
            "text/plain": [
              "<Figure size 432x288 with 1 Axes>"
            ]
          },
          "metadata": {
            "tags": [],
            "needs_background": "light"
          }
        },
        {
          "output_type": "execute_result",
          "data": {
            "text/plain": [
              "Index(['sched_cls', 'priority', 'cpu_requested', 'mem_requested', 'disk'], dtype='object')"
            ]
          },
          "metadata": {
            "tags": []
          },
          "execution_count": 10
        },
        {
          "output_type": "stream",
          "text": [
            "time: 250 ms\n"
          ],
          "name": "stdout"
        }
      ]
    },
    {
      "cell_type": "markdown",
      "metadata": {
        "id": "FDhLe2UAari_"
      },
      "source": [
        "Memory and Disk are the most determining factors in producing a failure"
      ]
    },
    {
      "cell_type": "markdown",
      "metadata": {
        "id": "wHsY9OsxekhI"
      },
      "source": [
        "# Hyperparameter tuning\n",
        "You have three possibility:\n",
        "* Manual tuning:\n",
        "  * Divide the training set in training subset and validation subset\n",
        "  * Train different classifiers (with different hyperparameters) on the training subset\n",
        "  * Check their performance, i.e., accuracy, on the validation subset\n",
        "  * Choose the best\n",
        "  * Test it on the test set\n",
        "* `GridSearchCV` (as in `02.regression/b.polynomial-regression.ipynb`)\n",
        "* `RandomizedSearchCV`\n",
        "\n",
        "We use the latter now. See [Open Data Science post](https://medium.com/@ODSC/optimizing-hyperparameters-for-random-forest-algorithms-in-scikit-learn-d60b7aa07ead).\n",
        "\n",
        "Let's first define the values of the parameters we want to explore"
      ]
    },
    {
      "cell_type": "code",
      "metadata": {
        "id": "UJZBmbTTfdUB",
        "colab": {
          "base_uri": "https://localhost:8080/"
        },
        "outputId": "2b7266f6-9c8e-4a3a-fb12-e88918567415"
      },
      "source": [
        " param_grid = {\n",
        "    'criterion':['gini', 'entropy'],\n",
        "    'max_features':[1,2,3,4,5],\n",
        "\n",
        "    # Number of allowed leafs\n",
        "    'max_leaf_nodes':[16, 32, 64, 128, 256, 512, 1024, 2048],\n",
        "\n",
        "    # A node will be split if this split induces a decrease of the\n",
        "    # impurity greater than or equal to this value.\n",
        "    'min_impurity_decrease' : [0, 0.001, 0.01, 0.1, 0.2],\n",
        "\n",
        "    'max_depth':[1,10,100,1000,10000,100000],\n",
        "\n",
        "    # A node can be a leaf only if it contains at least the following fraction\n",
        "    # of samples\n",
        "    'min_weight_fraction_leaf' : [0.1, 0.01, 0.001, 0]\n",
        "\n",
        "}"
      ],
      "execution_count": null,
      "outputs": [
        {
          "output_type": "stream",
          "text": [
            "time: 8.22 ms\n"
          ],
          "name": "stdout"
        }
      ]
    },
    {
      "cell_type": "markdown",
      "metadata": {
        "id": "05YiuGo-zBNt"
      },
      "source": [
        "We have a lot of possible configurations to check. We specify to just test 50\n",
        "out of them.\n"
      ]
    },
    {
      "cell_type": "code",
      "metadata": {
        "id": "GGJ8LEylhRcU",
        "colab": {
          "base_uri": "https://localhost:8080/"
        },
        "outputId": "db6a9979-3f36-4d69-a3b8-1ef8d2577508"
      },
      "source": [
        "# Before we had used all the availble CPUs for training one random forest.\n",
        "# Now, instead, we use one CPU per random forest (n_jobs=1).\n",
        "forest = RandomForestClassifier(n_estimators=100, random_state = 4, n_jobs=1,)\n",
        "\n",
        "\n",
        "search = RandomizedSearchCV(\n",
        "                            scoring = 'accuracy', # See other possible metrics in\n",
        "                                                # https://scikit-learn.org/stable/modules/model_evaluation.html#scoring-parameter\n",
        "\n",
        "                            estimator=forest,\n",
        "                            param_distributions=param_grid,\n",
        "                            n_iter=50, # We just test 50 configurations\n",
        "                            verbose=2,random_state=42,\n",
        "                            n_jobs=-1, # Triain forests in parallel using\n",
        "                                      # all CPUs\n",
        "                            cv=5 # 5-fold validation\n",
        "                          )\n",
        "# Note that we are training different random forests in parallel (n_jobs=-1),\n",
        "# each with a certain combination of hyper-parameters.\n",
        "\n",
        "search.fit(X_train, y_train)"
      ],
      "execution_count": null,
      "outputs": [
        {
          "output_type": "stream",
          "text": [
            "Fitting 5 folds for each of 50 candidates, totalling 250 fits\n"
          ],
          "name": "stdout"
        },
        {
          "output_type": "stream",
          "text": [
            "[Parallel(n_jobs=-1)]: Using backend LokyBackend with 2 concurrent workers.\n",
            "[Parallel(n_jobs=-1)]: Done  37 tasks      | elapsed:  3.4min\n",
            "[Parallel(n_jobs=-1)]: Done 158 tasks      | elapsed: 16.7min\n",
            "[Parallel(n_jobs=-1)]: Done 250 out of 250 | elapsed: 25.1min finished\n"
          ],
          "name": "stderr"
        },
        {
          "output_type": "execute_result",
          "data": {
            "text/plain": [
              "RandomizedSearchCV(cv=5, error_score=nan,\n",
              "                   estimator=RandomForestClassifier(bootstrap=True,\n",
              "                                                    ccp_alpha=0.0,\n",
              "                                                    class_weight=None,\n",
              "                                                    criterion='gini',\n",
              "                                                    max_depth=None,\n",
              "                                                    max_features='auto',\n",
              "                                                    max_leaf_nodes=None,\n",
              "                                                    max_samples=None,\n",
              "                                                    min_impurity_decrease=0.0,\n",
              "                                                    min_impurity_split=None,\n",
              "                                                    min_samples_leaf=1,\n",
              "                                                    min_samples_split=2,\n",
              "                                                    min_weight_fraction_leaf=0.0,\n",
              "                                                    n_estimators=100, n_jobs...\n",
              "                   param_distributions={'criterion': ['gini', 'entropy'],\n",
              "                                        'max_depth': [1, 10, 100, 1000, 10000,\n",
              "                                                      100000],\n",
              "                                        'max_features': [1, 2, 3, 4, 5],\n",
              "                                        'max_leaf_nodes': [16, 32, 64, 128, 256,\n",
              "                                                           512, 1024, 2048],\n",
              "                                        'min_impurity_decrease': [0, 0.001,\n",
              "                                                                  0.01, 0.1,\n",
              "                                                                  0.2],\n",
              "                                        'min_weight_fraction_leaf': [0.1, 0.01,\n",
              "                                                                     0.001,\n",
              "                                                                     0]},\n",
              "                   pre_dispatch='2*n_jobs', random_state=42, refit=True,\n",
              "                   return_train_score=False, scoring='accuracy', verbose=2)"
            ]
          },
          "metadata": {
            "tags": []
          },
          "execution_count": 12
        },
        {
          "output_type": "stream",
          "text": [
            "time: 25min 23s\n"
          ],
          "name": "stdout"
        }
      ]
    },
    {
      "cell_type": "code",
      "metadata": {
        "id": "9DAreqI_ylof",
        "colab": {
          "base_uri": "https://localhost:8080/"
        },
        "outputId": "34fc7c2d-2828-4707-9f55-bf6fafc8c7d7"
      },
      "source": [
        "print(search.best_params_)\n",
        "\n",
        "model = search.best_estimator_\n"
      ],
      "execution_count": null,
      "outputs": [
        {
          "output_type": "stream",
          "text": [
            "{'min_weight_fraction_leaf': 0, 'min_impurity_decrease': 0.001, 'max_leaf_nodes': 64, 'max_features': 3, 'max_depth': 100000, 'criterion': 'entropy'}\n",
            "time: 1.89 ms\n"
          ],
          "name": "stdout"
        }
      ]
    },
    {
      "cell_type": "markdown",
      "metadata": {
        "id": "UakXaA42SAp5"
      },
      "source": [
        "Now that we have the model with the best hyperparameters, we train it on the entire dataset"
      ]
    },
    {
      "cell_type": "code",
      "metadata": {
        "colab": {
          "base_uri": "https://localhost:8080/",
          "height": 672
        },
        "id": "naCQDJXTSIrR",
        "outputId": "d211bad7-56b0-4d8a-db0a-a7e06bae58ff"
      },
      "source": [
        "model.fit(X_train, y_train)\n",
        "y_pred = model.predict(X_test)\n",
        "\n",
        "plot_conf_mat(y_test, y_pred, class_names)"
      ],
      "execution_count": null,
      "outputs": [
        {
          "output_type": "stream",
          "text": [
            "Normalized confusion matrix\n",
            "[[0.92679501 0.07320499]\n",
            " [0.03684537 0.96315463]]\n"
          ],
          "name": "stdout"
        },
        {
          "output_type": "execute_result",
          "data": {
            "text/plain": [
              "<matplotlib.axes._subplots.AxesSubplot at 0x7f4e237ec828>"
            ]
          },
          "metadata": {
            "tags": []
          },
          "execution_count": 14
        },
        {
          "output_type": "display_data",
          "data": {
            "image/png": "[encoded data removed]",
            "text/plain": [
              "<Figure size 576x576 with 2 Axes>"
            ]
          },
          "metadata": {
            "tags": [],
            "needs_background": "light"
          }
        },
        {
          "output_type": "stream",
          "text": [
            "time: 15.9 s\n"
          ],
          "name": "stdout"
        }
      ]
    },
    {
      "cell_type": "markdown",
      "metadata": {
        "id": "2HGxLiTjmINw"
      },
      "source": [
        "Note that we get also get probabilities with RandomForests (fraction of trees that predicted `1`). And thus, we can compute cross-entropy"
      ]
    },
    {
      "cell_type": "code",
      "metadata": {
        "id": "F8xj3fczmdPG",
        "colab": {
          "base_uri": "https://localhost:8080/"
        },
        "outputId": "0eb103ef-64b8-4450-9da4-c2e285ad3d63"
      },
      "source": [
        "proba = model.predict_proba(X_test)\n",
        "print(\"Output probabilities are \",proba)\n",
        "\n",
        "\n",
        "print(\"Cross entropy = \", log_loss(y_test, proba))"
      ],
      "execution_count": null,
      "outputs": [
        {
          "output_type": "stream",
          "text": [
            "Output probabilities are  [[9.99424230e-01 5.75769845e-04]\n",
            " [9.99506351e-01 4.93649499e-04]\n",
            " [6.25626286e-01 3.74373714e-01]\n",
            " ...\n",
            " [9.67837863e-01 3.21621372e-02]\n",
            " [1.71167513e-01 8.28832487e-01]\n",
            " [2.27082826e-02 9.77291717e-01]]\n",
            "Cross entropy =  0.16158164476524636\n",
            "time: 515 ms\n"
          ],
          "name": "stdout"
        }
      ]
    },
    {
      "cell_type": "markdown",
      "metadata": {
        "id": "zW4MHSBYoHZs"
      },
      "source": [
        "Don't confuse cross-entropy with entropy of a tree node!"
      ]
    },
    {
      "cell_type": "markdown",
      "metadata": {
        "id": "M8DGKHTglbWP"
      },
      "source": [
        "Since it may take some time to perform randomized search, let's save the model (**serializing** the python object)"
      ]
    },
    {
      "cell_type": "code",
      "metadata": {
        "id": "-BrMXobAlg6h",
        "colab": {
          "base_uri": "https://localhost:8080/"
        },
        "outputId": "1fb3a9e7-2b5a-4d2b-ac00-2dfd74a46357"
      },
      "source": [
        "filename = my_path+'forest-1.pkl'\n",
        "pickle.dump(model, open(filename, 'wb'))"
      ],
      "execution_count": null,
      "outputs": [
        {
          "output_type": "stream",
          "text": [
            "time: 3.73 s\n"
          ],
          "name": "stdout"
        }
      ]
    },
    {
      "cell_type": "markdown",
      "metadata": {
        "id": "idRrGqyTmEjh"
      },
      "source": [
        "To later retrieve it:\n",
        "\n"
      ]
    },
    {
      "cell_type": "code",
      "metadata": {
        "id": "BdQ_XXhbmOoh",
        "colab": {
          "base_uri": "https://localhost:8080/"
        },
        "outputId": "c4640e8a-ab0c-450d-94e2-574164ecb303"
      },
      "source": [
        "model = pickle.load(open(filename, 'rb'))"
      ],
      "execution_count": null,
      "outputs": [
        {
          "output_type": "stream",
          "text": [
            "time: 15 ms\n"
          ],
          "name": "stdout"
        }
      ]
    },
    {
      "cell_type": "markdown",
      "metadata": {
        "id": "WPR8zkpMmvFg"
      },
      "source": [
        "It is convenient to automate this process"
      ]
    },
    {
      "cell_type": "code",
      "metadata": {
        "id": "0WUn3T5Lmyby",
        "colab": {
          "base_uri": "https://localhost:8080/"
        },
        "outputId": "9956529c-5df1-446c-979f-01b1abbbe889"
      },
      "source": [
        "def search_or_load(model_filename, search, X_train, y_train):\n",
        "  if(isfile(model_filename) ):\n",
        "    print(\"Loading model\")\n",
        "    model = pickle.load(open(model_filename, 'rb'))\n",
        "\n",
        "  else:\n",
        "    print(\"Searching the best hyper_parameters\")\n",
        "    search.fit(X_train, y_train)\n",
        "    print(search.best_params_)\n",
        "    model = search.best_estimator_\n",
        "    print(\"Training model\")\n",
        "    model.fit(X_train,y_train)\n",
        "    pickle.dump(model, open(model_filename, 'wb'))\n",
        "    print(\"Model saved in in file \", model_filename)\n",
        "  return model\n"
      ],
      "execution_count": null,
      "outputs": [
        {
          "output_type": "stream",
          "text": [
            "time: 8.12 ms\n"
          ],
          "name": "stdout"
        }
      ]
    },
    {
      "cell_type": "markdown",
      "metadata": {
        "id": "0ZMh852ona4j"
      },
      "source": [
        "If we call this function, it will not redo the search, as the model has already been saved"
      ]
    },
    {
      "cell_type": "code",
      "metadata": {
        "id": "WSNcP0FcnjB_",
        "colab": {
          "base_uri": "https://localhost:8080/"
        },
        "outputId": "02097824-ed6b-4fba-9d1a-e48d62e45d74"
      },
      "source": [
        "model = search_or_load(filename, search, X_train, y_train)"
      ],
      "execution_count": null,
      "outputs": [
        {
          "output_type": "stream",
          "text": [
            "Loading model\n",
            "time: 13.3 ms\n"
          ],
          "name": "stdout"
        }
      ]
    },
    {
      "cell_type": "markdown",
      "metadata": {
        "id": "oWms3-A_1B9e"
      },
      "source": [
        "### More iterations\n",
        "\n",
        "\n",
        "Let's try to increase the number of tested configurations\n"
      ]
    },
    {
      "cell_type": "code",
      "metadata": {
        "id": "RlWTBjvr1I4i",
        "colab": {
          "base_uri": "https://localhost:8080/"
        },
        "outputId": "eb1bab78-2726-461a-94be-da8f5c9dc94c"
      },
      "source": [
        "search = RandomizedSearchCV(\n",
        "                            scoring = 'accuracy', # See other possible metrics in\n",
        "                                                # https://scikit-learn.org/stable/modules/model_evaluation.html#scoring-parameter\n",
        "\n",
        "                            estimator=forest,\n",
        "                            param_distributions=param_grid,\n",
        "                            n_iter=200,\n",
        "                            verbose=2,random_state=42,\n",
        "                            n_jobs=-1, # Triain forests in parallel using\n",
        "                                      # all CPUs\n",
        "                            cv=5 # 5-fold validation\n",
        "                          )\n",
        "\n"
      ],
      "execution_count": null,
      "outputs": [
        {
          "output_type": "stream",
          "text": [
            "time: 3.94 ms\n"
          ],
          "name": "stdout"
        }
      ]
    },
    {
      "cell_type": "code",
      "metadata": {
        "id": "KLZdyyqj8go5",
        "colab": {
          "base_uri": "https://localhost:8080/"
        },
        "outputId": "a022dc71-2098-474f-cb75-9005a1647d7f"
      },
      "source": [
        "filename = my_path + 'forest-2.pkl'\n",
        "model = search_or_load(filename, search, X_train, y_train)"
      ],
      "execution_count": null,
      "outputs": [
        {
          "output_type": "stream",
          "text": [
            "Searching the best hyper_parameters\n",
            "Fitting 5 folds for each of 200 candidates, totalling 1000 fits\n"
          ],
          "name": "stdout"
        },
        {
          "output_type": "stream",
          "text": [
            "[Parallel(n_jobs=-1)]: Using backend LokyBackend with 2 concurrent workers.\n",
            "[Parallel(n_jobs=-1)]: Done  37 tasks      | elapsed:  3.9min\n",
            "[Parallel(n_jobs=-1)]: Done 158 tasks      | elapsed: 16.1min\n",
            "[Parallel(n_jobs=-1)]: Done 361 tasks      | elapsed: 35.1min\n",
            "[Parallel(n_jobs=-1)]: Done 644 tasks      | elapsed: 63.6min\n",
            "[Parallel(n_jobs=-1)]: Done 1000 out of 1000 | elapsed: 100.3min finished\n"
          ],
          "name": "stderr"
        },
        {
          "output_type": "stream",
          "text": [
            "{'min_weight_fraction_leaf': 0, 'min_impurity_decrease': 0, 'max_leaf_nodes': 2048, 'max_features': 3, 'max_depth': 100000, 'criterion': 'entropy'}\n",
            "Training model\n",
            "Model saved in in file  /content/gdrive/My Drive/tsp/teaching/data-science-for-networks/img-from-code/05.trees/forest-2.pkl\n",
            "time: 1h 40min 58s\n"
          ],
          "name": "stdout"
        }
      ]
    },
    {
      "cell_type": "code",
      "metadata": {
        "id": "yNPVrptu25IM",
        "colab": {
          "base_uri": "https://localhost:8080/",
          "height": 672
        },
        "outputId": "fd405dfd-c034-433e-c8e1-d46e59143a87"
      },
      "source": [
        "\n",
        "y_pred = model.predict(X_test)\n",
        "\n",
        "plot_conf_mat(y_test, y_pred, class_names)"
      ],
      "execution_count": null,
      "outputs": [
        {
          "output_type": "stream",
          "text": [
            "Normalized confusion matrix\n",
            "[[0.93599741 0.06400259]\n",
            " [0.03125647 0.96874353]]\n"
          ],
          "name": "stdout"
        },
        {
          "output_type": "execute_result",
          "data": {
            "text/plain": [
              "<matplotlib.axes._subplots.AxesSubplot at 0x7f4e22f2b0f0>"
            ]
          },
          "metadata": {
            "tags": []
          },
          "execution_count": 22
        },
        {
          "output_type": "display_data",
          "data": {
            "image/png": "[encoded data removed]",
            "text/plain": [
              "<Figure size 576x576 with 2 Axes>"
            ]
          },
          "metadata": {
            "tags": [],
            "needs_background": "light"
          }
        },
        {
          "output_type": "stream",
          "text": [
            "time: 994 ms\n"
          ],
          "name": "stdout"
        }
      ]
    },
    {
      "cell_type": "markdown",
      "metadata": {
        "id": "0uQhYyPumac6"
      },
      "source": [
        "It's better\n",
        "\n",
        "Ways to improve eve further:\n",
        "* Increase the number of trees\n",
        "* Increase the number of configurations to try out"
      ]
    },
    {
      "cell_type": "markdown",
      "source": [
        "# Random forest for regression\n",
        "\n",
        "We have performed in this notebook a classification task. If you need to perform a regression task instead, you can use the [RandomForestRegressor](https://scikit-learn.org/stable/modules/generated/sklearn.ensemble.RandomForestRegressor.html)"
      ],
      "metadata": {
        "id": "5g5pSFFTlhKn"
      }
    },
    {
      "cell_type": "markdown",
      "metadata": {
        "id": "H5Q4gXPxUrpm"
      },
      "source": [
        "# References\n",
        "\n",
        "[He16] Hemmat, R. A., & Hafid, A. (2016). SLA Violation Prediction In Cloud Computing: A Machine Learning Perspective. Retrieved from http://arxiv.org/abs/1611.10338\n",
        "\n",
        "[Re11] Reiss, C., Wilkes, J., & Hellerstein, J. (2011). Google cluster-usage traces: format+ schema. Google Inc., …, 1–14. https://doi.org/10.1007/978-3-540-69057-3_88"
      ]
    },
    {
      "cell_type": "code",
      "metadata": {
        "id": "Kv0iv_ilU_7N"
      },
      "source": [],
      "execution_count": null,
      "outputs": []
    }
  ]
}